{
 "cells": [
  {
   "cell_type": "markdown",
   "metadata": {},
   "source": [
    "# COLL 80   Data Science Module on Voting and Registration\n",
    "\n",
    " \n",
    "---\n",
    "\n",
    "![](DSHeaderMillsLarge.png)\n",
    "\n",
    "\n",
    "### Professors Susan Wang and Almudena Konrad\n",
    "\n",
    "In this module we explore data on voting and registration, focusing on presidential elections.  We begin with historical data on voter turnout and the events that affected voter turnout.  We then turn to registration and voter turnout data for the past twenty years, or the last five presidential elections, and compare them at the national, state, and regional levels.  We conclude by exploring data associated with voter characteristics, such as gender, age, race, and education in relation to voter turnout, and reasons for not voting and for not registering."
   ]
  },
  {
   "cell_type": "markdown",
   "metadata": {},
   "source": [
    "### Topics Covered\n",
    "- Jupyter Notebooks\n",
    "- Voting \n",
    "- Registration Rate\n",
    "- Voter Turnout\n",
    "- Voter Characteristics\n",
    "\n",
    "\n",
    "### Table of Contents\n",
    "\n",
    "[1. Introduction to Jupyter Notebooks](#introJupyterNotebooks)<br>\n",
    "\n",
    "[2. Voter Turnout in the US Presidential Elections — Historical Perspective](#voterTurnout)<br>\n",
    "\n",
    "[3. Voter Registration and Turnout in the US Presidential Elections 2000-2016](#voterRegTurnout)<br>\n",
    "\n",
    "&nbsp;&nbsp;&nbsp;&nbsp;&nbsp;&nbsp; [3.1 National Voting Data](#nationalData)\n",
    "\n",
    "&nbsp;&nbsp;&nbsp;&nbsp;&nbsp;&nbsp; [3.2 Local Voting Data](#localData)\n",
    "\n",
    "&nbsp;&nbsp;&nbsp;&nbsp;&nbsp;&nbsp; &nbsp;&nbsp;&nbsp;&nbsp;&nbsp;&nbsp; [3.2.1 Graph of Registration and Turnout Rates of a Selected Region (Widget A)](#widgetA)\n",
    "\n",
    "&nbsp;&nbsp;&nbsp;&nbsp;&nbsp;&nbsp; &nbsp;&nbsp;&nbsp;&nbsp;&nbsp;&nbsp; [3.2.2 Comparing Registration or Turnout Rates of Three Selected Regions (Widget B)](#widgetB)\n",
    "\n",
    "[4. Voter Characteristics in Relation to Turnout in the US Presidential Elections](#voterCharacteristics)<br>\n",
    "\n",
    "&nbsp;&nbsp;&nbsp;&nbsp;&nbsp;&nbsp; [4.1 Gender](#gender)\n",
    "\n",
    "&nbsp;&nbsp;&nbsp;&nbsp;&nbsp;&nbsp; [4.2 Age](#age)\n",
    "\n",
    "&nbsp;&nbsp;&nbsp;&nbsp;&nbsp;&nbsp; [4.3 Education](#education)\n",
    "\n",
    "&nbsp;&nbsp;&nbsp;&nbsp;&nbsp;&nbsp; [4.4 Race](#race)\n",
    "\n",
    "&nbsp;&nbsp;&nbsp;&nbsp;&nbsp;&nbsp; [4.5 Reasons for Not Voting](#notVoting)\n",
    "\n",
    "&nbsp;&nbsp;&nbsp;&nbsp;&nbsp;&nbsp; [4.6 Reasons for Not Registering](#notRegistering)\n",
    "\n",
    "[5. Data Sources and References](#sources)<br>\n",
    "\n",
    "---"
   ]
  },
  {
   "cell_type": "markdown",
   "metadata": {},
   "source": [
    "## 1.  Introduction to Jupyter Notebooks <a id = \"introJupyterNotebooks\"></a>"
   ]
  },
  {
   "cell_type": "markdown",
   "metadata": {},
   "source": [
    "In this module we are using a document called a **Jupyter Notebook** which is an *interactive* document containing text, code, visualizations, and more.  In this section, we introduce some of the building blocks of a notebook and how to work with it.\n",
    "\n",
    "Now click anywhere near this paragraph.  What you see is a rectangle box around this paragraph.  This rectangle is called a **cell**. A notebook is composed of two kinds of cells: markdown and code. A **markdown cell**, such as this one, contains text. A **code cell**, such as the next one, contains commands in Python, a programming language that we will be using for the remainder of this module. A code cell has `In [ ]:` to the left of the cell (that is how you distinguish a code cell).  You can ***run*** (or execute the commands) in a code cell by first selecting it (clicking it once), and\n",
    "   - press <code>Ctrl+Enter</code> (run the cell and stay at the same cell) or\n",
    "   - press <code>Shift+Enter</code> (run the cell and go to the next cell) or\n",
    "   - click the **Run** button in the toolbar at the top of the screen (run the cell and go to the next cell)\n",
    "   \n",
    "If a code cell is running, you will see an asterisk `*` appear in the square brackets to the left of the cell. Once the cell has finished running, a number (which will increment) will replace the asterisk and any output from the code will appear under the cell. The output of a code cell may include computations, tables, graphs, or other visualizations."
   ]
  },
  {
   "cell_type": "code",
   "execution_count": null,
   "metadata": {
    "scrolled": true
   },
   "outputs": [],
   "source": [
    "# this is a code cell; run this cell\n",
    "print('Welcome to Data Science Voting Module!')"
   ]
  },
  {
   "cell_type": "markdown",
   "metadata": {},
   "source": [
    "You'll notice that many code cells contain lines of greenish-blue italic text that start with a `#`. These are comments. Comments often contain helpful information about what the code does or what you are supposed to do in the cell. The leading # tells the computer to ignore them."
   ]
  },
  {
   "cell_type": "markdown",
   "metadata": {},
   "source": [
    "#### Editing"
   ]
  },
  {
   "cell_type": "markdown",
   "metadata": {},
   "source": [
    "To edit a Code cell, just click at the location where edit should take place and start typing/editing.  In this module, we will not be writing code, only running code cells.\n",
    "\n",
    "You can edit a Markdown cell by clicking it twice. Text in Markdown cells is written in Markdown, a formatting syntax for plain text, so you may see some funky symbols when you edit a text cell. Once you've made your changes, you can exit text-editing mode by running the cell. Now try edit the following Markdown cell:\n"
   ]
  },
  {
   "cell_type": "markdown",
   "metadata": {},
   "source": [
    "My favorite animal is ..."
   ]
  },
  {
   "cell_type": "markdown",
   "metadata": {},
   "source": [
    "#### Saving and Loading"
   ]
  },
  {
   "cell_type": "markdown",
   "metadata": {},
   "source": [
    "Your notebook can record all of your text and code edits, as well as any tables and graphs you generate or calculations you make. You can save the notebook in its current state by clicking Control-S, clicking the floppy disc icon in the toolbar at the top, left of the page, or by going to the File menu and selecting \"Save and Checkpoint\".\n",
    "\n",
    "The next time you open the notebook, it will look the same as when you last saved it. **Note**: after loading a notebook you will see all the outputs (tables, graphs, computation, widgets, etc) from your last session, but you won't be able to use any libraries you imported, variables you assigned, functions you defined, or widgets you created. To get back to your previous state, you will need to *re-run* the cells where you imported the libraries, defined the variables and functions. The easiest way is to select the cell where you left off work, then go to the Cell menu at the top of the screen and select \"Run All Above\"."
   ]
  },
  {
   "cell_type": "markdown",
   "metadata": {},
   "source": [
    "---\n",
    "## 2. Voter Turnout in the US Presidential Elections — Historical Perspective <a id='voterTurnout'></a>\n"
   ]
  },
  {
   "cell_type": "markdown",
   "metadata": {},
   "source": [
    "Voting plays a fundamental role in a democracy. We vote to elect our president, governor, senators, representative, mayor, and many other public officials, plus we vote on measures and policies that affect our lives.\n",
    "\n",
    "Who is **eligible to vote**?  in other words, who has the **right to vote**?\n",
    "\n",
    "In 2020 people who satisfy the following criteria are eligible to vote:\n",
    " - citizen of the United States\n",
    " - 18 or over in age\n",
    " - meet state requirements (varies) — each state sets its own voting criteria and regulations\n",
    "\n",
    "Have the above eligibility criteria been the same throughout US history?  \n",
    "\n",
    "Answer: No!  \n",
    "\n",
    "The fight for the right to vote has been a long battle."
   ]
  },
  {
   "cell_type": "markdown",
   "metadata": {},
   "source": [
    "Let's look at the percentage of the US population who voted in presidential elections throughout history (see Figure 1). Midterm elections have lower turnout than presidential elections [1]. <br>\n",
    "\n",
    "![](U.S._Vote_for_President_as_Population_Share.png)<br>\n",
    "\n",
    "<center><b><span style=\"font-family:Ariel; font-size:1.5em;\">Figure 1.  Proportion of the US Population Who Voted for President [2]</span></b></center>\n",
    " "
   ]
  },
  {
   "cell_type": "markdown",
   "metadata": {},
   "source": [
    "<div class=\"alert alert-info\">\n",
    "<b> Activity/Discussion:</b> Looking at the above graph on the historical turnout rate for presidential elections, what events do you think contributed to the rise and fall of voter participation — who has the right to vote when?\n",
    "\n",
    "[Use polleverywhere to write down your thoughts ]\n",
    "    </div>    "
   ]
  },
  {
   "cell_type": "markdown",
   "metadata": {},
   "source": [
    "<details><summary>Click Here to Expand After Discussion</summary>\n",
    "<p>\n",
    "\n",
    "Key events that changed the eligibility criteria for voting and contibuted to the rise and fall of voter participation in presidential elections from 1784-2016:\n",
    "- in the early years of our country's founding, white male property owners aged twenty-one or older can vote\n",
    "- in mid 1820's, white male twenty-one or older can vote for most states (note the surge in 1828) \n",
    "- in 1870 (15th Amendment), all black male twenty-one or older can vote (note surge in 1872, 1876) \n",
    "- in 1890-1910, disenfranchisement of blacks and some poor whites—voting taxes, literacy tests, violence, etc (note the dip in 1896)\n",
    "- in 1920 (19th Amendment), all female twenty-one or older can vote (note the surge from 1924 on)\n",
    "- in 1947, Native Americans can vote\n",
    "- in 1952, Asian Americans can vote\n",
    "- in 1964 (24th Amendment), prohibition of any tax requirement\n",
    "- in 1971 (26th Amendment), all citizens eighteen or older can vote\n",
    "\n",
    "\n",
    "(more elaboration of the key events/history may be added later)\n",
    "</p>\n",
    "</details\n",
    "---"
   ]
  },
  {
   "cell_type": "markdown",
   "metadata": {},
   "source": [
    "## 3.  Voter Registration and Turnout in the US Presidential Elections 2000-2016 <a id='voterRegTurnout'></a>"
   ]
  },
  {
   "cell_type": "markdown",
   "metadata": {},
   "source": [
    "Each state is responsible for setting its own election regulations and administering its elections, as specified by [Article 1 Section 4 of the US Constitution](https://www.archives.gov/founding-docs/constitution-transcript#toc-section-4-) (the Constitution does not specify any role for the federal government in terms of administering elections). For most states, voter registration is required prior to voting (the only exception is North Dakota).  States have different voter registration requirements and deadlines.  For example, [California's registration requirements](https://www.sos.ca.gov/elections/voting-resources/voting-california/who-can-vote-california/voting-rights-californians/) include: US citizen and resident of California; 18 or over in age on election day; not currently in state or federal prison or on parole for the conviction of a felony, and not currently found mentally incompetent to vote by a court. The deadline for registration is October 19, 2020 for the November 3, 2020 election.  Since registration is a requirement prior to voting for forty-nine states, we pay attention to the *number of registered voters* (**registered**), in addition to the number of eligible voters (**eligible**) and the number of people who voted (**voted**).  Based on these three numbers, we compute the following important measures that we use in this module:\n",
    "- **registration rate** which is the proportion of registered voters out of those who are eligible—**registered/eligible**\n",
    "- **turnout rate based on registration** which is the proportion of people who voted out of those who registered—**voted/registered**\n",
    "- **turnout rate based on eligibility** which is the proportion of people who voted out of those who are eligible—**voted/eligible**"
   ]
  },
  {
   "cell_type": "markdown",
   "metadata": {},
   "source": [
    "### 3.1  National Voting Data 1980-2016 <a id='nationalData'></a>"
   ]
  },
  {
   "cell_type": "markdown",
   "metadata": {},
   "source": [
    "#### Data Sources"
   ]
  },
  {
   "cell_type": "markdown",
   "metadata": {},
   "source": [
    "The data that we use for the presidential elections are obtained from the [US Census Bureau](https://www.census.gov/topics/public-sector/voting.html).  The US Census Bureau conducts the Voting and Registration Supplement to the Current Population Survey (CPS) the week immediately following a national election.  The Voting and Registration Supplement asks questions about voting to about 56,000 households across the US. The questions include gender, age, race, education, reasons for not voting, reasons for not registering and more.  The survey responses are recorded and extrapolated to arrive at *estimates* for the voting data for the entire US population. "
   ]
  },
  {
   "cell_type": "markdown",
   "metadata": {},
   "source": [
    "#### Loading and Examining Data"
   ]
  },
  {
   "cell_type": "markdown",
   "metadata": {},
   "source": [
    "First we run the following cell."
   ]
  },
  {
   "cell_type": "code",
   "execution_count": null,
   "metadata": {},
   "outputs": [],
   "source": [
    "!pip install matplotlib==3.2  "
   ]
  },
  {
   "cell_type": "markdown",
   "metadata": {},
   "source": [
    "We start by importing some necessary libraries: run the following code cell and ignore any warning messages."
   ]
  },
  {
   "cell_type": "code",
   "execution_count": null,
   "metadata": {
    "scrolled": true
   },
   "outputs": [],
   "source": [
    "#Imports all necessary libraries. Run this cell and ignore pink warnings\n",
    "#You don't need to know this\n",
    "# later:  delete all not needed import statements\n",
    "\n",
    "from datascience import *\n",
    "import pandas as pd\n",
    "import numpy as np\n",
    "%matplotlib inline\n",
    "import matplotlib.pyplot as plt\n",
    "import seaborn as sns\n",
    "plt.style.use('fivethirtyeight')\n",
    "import warnings\n",
    "warnings.simplefilter(action=\"ignore\", category=FutureWarning)\n",
    "warnings.filterwarnings('ignore')\n",
    "import ipywidgets as widgets\n",
    "from ipywidgets import interact, interactive, fixed, interact_manual\n",
    "from IPython.display import Image\n",
    "from IPython.display import display\n",
    "import graphfile"
   ]
  },
  {
   "cell_type": "markdown",
   "metadata": {},
   "source": [
    "The data set obtained from the US Census Bureau for the past ten presidential elections has been cleaned and saved in a csv file. Next we read in the csv file and save it in a table. "
   ]
  },
  {
   "cell_type": "code",
   "execution_count": null,
   "metadata": {
    "scrolled": true
   },
   "outputs": [],
   "source": [
    "# cleaned data from \"Characteristics of Voters in the Presidential Election of 2016\"\n",
    "# https://www.census.gov/library/publications/2018/demo/p20-582.pdf\n",
    "# Prior to 1978, the Current Population Survey did not ask about citizenship status which is needed\n",
    "# to calculate the citizen voting-age population\n",
    "USHistorical = Table.read_table('US1980-2016.csv')\n",
    "USHistorical.set_format(np.arange(2,8), NumberFormatter)"
   ]
  },
  {
   "cell_type": "markdown",
   "metadata": {},
   "source": [
    "Below we graph the number of people (in thousands) who were eligible, registered, and voted based on the above table."
   ]
  },
  {
   "cell_type": "code",
   "execution_count": null,
   "metadata": {
    "scrolled": true
   },
   "outputs": [],
   "source": [
    "# graph of population in the US who are elegible to vote, who registered to vote, and who voted \n",
    "USHistorical.select('Year', 'Eligible (in K)', 'Registered (in K)', 'Voted (in K)').plot('Year', width = 10)\n",
    "plt.ylabel(\"Population in Thousands\")\n",
    "plt.title(\"US Population Eligible to Vote, Registered to Vote, and Voted in Presidential Elections\");"
   ]
  },
  {
   "cell_type": "markdown",
   "metadata": {},
   "source": [
    "Next we graph the registration rate, turnout rate based on registration, and turnout rate based on eligibility (rates are expressed in percentages)."
   ]
  },
  {
   "cell_type": "code",
   "execution_count": null,
   "metadata": {},
   "outputs": [],
   "source": [
    "graphfile.line_graph(USHistorical.column(0), USHistorical.column(5), '% Registered/Eligible', USHistorical.column(6),\n",
    "          '% Voted/Registered', USHistorical.column(7), '% Voted/Eligible', \n",
    "          'Registration Rate and Turnout Rates in Presidential Elections')"
   ]
  },
  {
   "cell_type": "markdown",
   "metadata": {},
   "source": [
    "Below is a bar graph (instead of a line graph) of the same data."
   ]
  },
  {
   "cell_type": "code",
   "execution_count": null,
   "metadata": {},
   "outputs": [],
   "source": [
    "graphfile.bar_graph(USHistorical.column(0), USHistorical.column(5), '% Registered/Eligible', USHistorical.column(6),\n",
    "          '% Voted/Registered', USHistorical.column(7), '% Voted/Eligible', \n",
    "          'Registration Rate and Turnout Rates in Presidential Elections')"
   ]
  },
  {
   "cell_type": "markdown",
   "metadata": {},
   "source": [
    "### 3.2  Local Voting Data 2000-2016 <a id='localData'></a>"
   ]
  },
  {
   "cell_type": "markdown",
   "metadata": {},
   "source": [
    "For local (Alameda county, other Bay Area counties, California) data on voter registration and turnout, we turn to [California State Election](https://www.sos.ca.gov/elections/) which contains voting data for the past twenty years (note: unlike US Census Bureau voting data, state voting data are exact numbers, not estimates).  Next we read in the data and save it in a table.  "
   ]
  },
  {
   "cell_type": "code",
   "execution_count": null,
   "metadata": {
    "scrolled": true
   },
   "outputs": [],
   "source": [
    "# data obtained and compiled from https://www.sos.ca.gov/elections/ for each presidential election\n",
    "voting = Table.read_table('Voting.csv')\n",
    "voting.set_format(np.arange(1,73), NumberFormatter)"
   ]
  },
  {
   "cell_type": "markdown",
   "metadata": {},
   "source": [
    "**Note:** The table, with its many columns, contains voting data from all nine bay area counties, in addition to voting data from California and the US (in thousands)."
   ]
  },
  {
   "cell_type": "markdown",
   "metadata": {},
   "source": [
    "### 3.2.1 Graph of Registration and Turnout Rates of a Selected Region (Widget A) <a id='widgetA'></a>"
   ]
  },
  {
   "cell_type": "markdown",
   "metadata": {},
   "source": [
    "The following ***widget*** displays a graph — line, bar, horizontal bar — showing registration and turnout rates based on a selected region from the dropdown menu."
   ]
  },
  {
   "cell_type": "code",
   "execution_count": null,
   "metadata": {
    "scrolled": false
   },
   "outputs": [],
   "source": [
    "# make a selected graph showing registration and turnout rate based on a selected region\n",
    "def vote_region(graph, region):\n",
    "    new_table = voting.select(\"Year\", region  + \"% Registered/Eligible\", region + \"% Voted/Registered\", \n",
    "                    region + \"% Voted/Eligible\").where(\"Year\", are.above(1996))\n",
    "    if graph == 'line graph':\n",
    "        return (graphfile.line_graph(new_table.column(0), new_table.column(1), \"% Registered/Eligible\", new_table.column(2), \n",
    "        \"% Voted/Registered\", new_table.column(3), \"% Voted/Eligible\", region + \" -- Registration Rate and Voter Turnout Rates\"))\n",
    "    elif graph == \"bar graph\":\n",
    "        return (graphfile.bar_graph(new_table.column(0), new_table.column(1), \"% Registered/Eligible\", new_table.column(2), \n",
    "        \"% Voted/Registered\", new_table.column(3), \"% Voted/Eligible\", region + \" -- Registration Rate and Voter Turnout Rates\"))\n",
    "    elif graph == \"horizontal bar graph\":\n",
    "        return (new_table.barh(\"Year\", width = 10), plt.xlabel(\"Percent\"), \n",
    "                plt.title(region + \" -- Registration Rate and Voter Turnout Rates\"))\n",
    "              \n",
    "# create bottons for type of graph\n",
    "buttons = widgets.ToggleButtons(options=[\"line graph\", \"bar graph\", \"horizontal bar graph\"], value=\"line graph\")\n",
    "\n",
    "# create dropdowns to select regions\n",
    "region_dropdown = widgets.Dropdown(options=[\"US \", \"CA \", \"Bay Area \", \"Alameda \", \"Contra Costa \", \"Marin \", \n",
    "                    \"Napa \", \"San Francisco \", \"San Mateo \", \"Santa Clara \", \"Solano \", \"Sonoma \"], value=\"Alameda \")\n",
    "\n",
    "# create the widget to view plot for registration and turnout based on type of plot\n",
    "display(widgets.interactive(vote_region, graph=buttons, region=region_dropdown))"
   ]
  },
  {
   "cell_type": "markdown",
   "metadata": {},
   "source": [
    "<div class=\"alert alert-info\">\n",
    "<b> Question:</b> After playing with the widget, what are some of your observations? <br>\n",
    "    Observations could include patterns and anamolies that you see, usefulness of different graphs, ...\n",
    "    </div>    "
   ]
  },
  {
   "cell_type": "markdown",
   "metadata": {},
   "source": [
    "*Write down your observations here in this cell.*"
   ]
  },
  {
   "cell_type": "markdown",
   "metadata": {},
   "source": [
    "### 3.2.2 Comparing Registration or Turnout Rates of Three Selected Regions (Widget B) <a id='widgetB'></a>"
   ]
  },
  {
   "cell_type": "markdown",
   "metadata": {},
   "source": [
    "The following ***widget*** graphs either registration or voter turnout rates of three selected regions to enable comparison."
   ]
  },
  {
   "cell_type": "code",
   "execution_count": null,
   "metadata": {
    "scrolled": false
   },
   "outputs": [],
   "source": [
    "# make a plot showing/comparing selected regions based on feature and type of graph\n",
    "def vote_compare(graph, feature, regionA, regionB, regionC):\n",
    "    new_table = voting.select(\"Year\", regionA  + feature, regionB + feature, regionC + feature).where(\"Year\", are.above(1996))\n",
    "    if graph == 'line graph':\n",
    "        return (graphfile.line_graph(new_table.column(0), new_table.column(1), regionA + feature, new_table.column(2), \n",
    "                    regionB + feature, new_table.column(3), regionC + feature, \"Comparison of Three Regions\"))  \n",
    "    elif graph == \"bar graph\":\n",
    "        return (graphfile.bar_graph(new_table.column(0), new_table.column(1), regionA + feature, new_table.column(2), \n",
    "                    regionB + feature, new_table.column(3), regionC + feature, \"Comparison of Three Regions\"))       \n",
    "\n",
    "# create bottons for type of graph\n",
    "graph_buttons = widgets.ToggleButtons(options=[\"line graph\", \"bar graph\"], value=\"line graph\")\n",
    "# create bottons for voting parameters\n",
    "parameter_buttons = widgets.ToggleButtons(options=[\"% Registered/Eligible\", \"% Voted/Registered\", \"% Voted/Eligible\"], \n",
    "                                          value=\"% Registered/Eligible\")\n",
    "\n",
    "# create 3 dropdowns to select regions\n",
    "regA_dropdown = widgets.Dropdown(options=[\"US \", \"CA \", \"Bay Area \", \"Alameda \", \"Contra Costa \", \"Marin \", \n",
    "             \"Napa \", \"San Francisco \", \"San Mateo \", \"Santa Clara \", \"Solano \", \"Sonoma \"], value=\"US \")\n",
    "regB_dropdown = widgets.Dropdown(options=[\"US \", \"CA \", \"Bay Area \", \"Alameda \", \"Contra Costa \", \"Marin \", \n",
    "            \"Napa \", \"San Francisco \", \"San Mateo \", \"Santa Clara \", \"Solano \", \"Sonoma \"], value=\"CA \")\n",
    "regC_dropdown = widgets.Dropdown(options=[\"US \", \"CA \", \"Bay Area \", \"Alameda \", \"Contra Costa \", \"Marin \", \n",
    "            \"Napa \", \"San Francisco \", \"San Mateo \", \"Santa Clara \", \"Solano \", \"Sonoma \"], value=\"Bay Area \")\n",
    "\n",
    "# create the widget to view plots for different regions based on voting parameter\n",
    "display(widgets.interactive(vote_compare, graph=graph_buttons, feature=parameter_buttons, \n",
    "                            regionA=regA_dropdown, regionB=regB_dropdown, regionC=regC_dropdown))"
   ]
  },
  {
   "cell_type": "markdown",
   "metadata": {},
   "source": [
    "<div class=\"alert alert-info\">\n",
    "<b> Question:</b> What are local registration and turnout trends for presidential elections?  Are there differences between national, state-level, and local trends?  Discuss and note down your observations.  (One county that stands out is Marin which has high rate of registration and voter turnout.)<br>\n",
    "    What questions would you like to ask and explore based on your observations?\n",
    "    </div>    "
   ]
  },
  {
   "cell_type": "markdown",
   "metadata": {},
   "source": [
    "*Write down your observations.  Write down the questions you want to ask and explore here in this cell.*"
   ]
  },
  {
   "cell_type": "markdown",
   "metadata": {},
   "source": [
    "---\n",
    "## 4.  Voter Characteristics in Relation to Turnout in the US Presidential Elections <a id='voterCharacteristics'></a>"
   ]
  },
  {
   "cell_type": "markdown",
   "metadata": {},
   "source": [
    "We now explore some voter characteristics — gender, age, education, and race — in relation to voter turnout in the presidential elections.  We also look at reasons people provided for not voting and for not registering to vote."
   ]
  },
  {
   "cell_type": "markdown",
   "metadata": {},
   "source": [
    "### 4.1 Gender <a id='gender'></a>"
   ]
  },
  {
   "cell_type": "markdown",
   "metadata": {},
   "source": [
    "In 2016, women made up 52% [3] of the eligible voting-age population and voted at a higher rate (63.3%) than men (59.3%), resulting in almost 10 million more votes casted by women than men.  \n",
    "\n",
    "Figure 2 below is a graph of the voter turnout (voted/eligible) based on gender for the past ten presidential elections [4]. Note that since 1980, women consistently voted at a higher rate than men (while before 1980, women voted at a lower rate than men.)\n",
    "\n",
    "![](GenderTurnout1.jpg)<br>\n",
    "\n",
    "\n",
    "<center><b><span style=\"font-family:Ariel; font-size:1.5em;\">Figure 2.  Voter Turnout Rate (Voted/Eligible) Based on Gender [4]</span></b></center><br>"
   ]
  },
  {
   "cell_type": "markdown",
   "metadata": {},
   "source": [
    "In terms of the *number of votes casted*, Figure 3 shows the voter turnout based on gender in the past fourteen presidential elections.  Due to a higher percentage of women in the eligible voting-age population combined with a higher turnout rate for women since 1980, the number of women who reported voting has been higher than that of men since 1964, with almost 10 million more votes casted by women than men in 2008, 2012 and 2016.\n",
    "\n",
    "![](GenderTurnout2.jpg)<br>\n",
    "\n",
    "<center><b><span style=\"font-family:Ariel; font-size:1.5em;\">Figure 3.  Voter Turnout (Voted) Based on Gender [4]</span></b></center><br"
   ]
  },
  {
   "cell_type": "markdown",
   "metadata": {},
   "source": [
    "### 4.2  Age <a id='age'></a>"
   ]
  },
  {
   "cell_type": "markdown",
   "metadata": {},
   "source": [
    "Age is another voter characteristics that differentiates voting rate, with older populations consistently turning out at higher rates than younger ones (see Figure 4).\n",
    "\n",
    "![](TurnoutByAgeLarge.png)<br>\n",
    "\n",
    "<center><b><span style=\"font-family:Ariel; font-size:1.5em;\">Figure 4.  Voter Turnout Rate (Voted/Eligible) Based on Age [5]</span></b></center><br\n",
    "                                                                                                                           "
   ]
  },
  {
   "cell_type": "markdown",
   "metadata": {},
   "source": [
    "### 4.3  Education  <a id='education'></a>"
   ]
  },
  {
   "cell_type": "markdown",
   "metadata": {},
   "source": [
    "Now we turn to education with data indicating populations with higher education attainment vote at higher rates than those with lower (see Figure 5)."
   ]
  },
  {
   "cell_type": "code",
   "execution_count": null,
   "metadata": {},
   "outputs": [],
   "source": [
    "# data from https://www2.census.gov/programs-surveys/cps/tables/p20/580/table05_1.xlsx)\n",
    "education2016 = Table.read_table('US 2016 Education Gender.csv')\n",
    "graphfile.bar_graph2(education2016.column(0), education2016.column(1), '% Men Voter Turnout', education2016.column(2), \n",
    "                    '% Women Voter Turnout', \"Voter Turnout Rate Based on Education and Gender\")"
   ]
  },
  {
   "cell_type": "markdown",
   "metadata": {},
   "source": [
    "<center><b><span style=\"font-family:Ariel; font-size:1.5em;\">Figure 5.  Voter Turnout Rate (Voted/Eligible) Based on Education and Gender, 2016 Presidential Election</span></b></center><br>\n"
   ]
  },
  {
   "cell_type": "markdown",
   "metadata": {},
   "source": [
    "### 4.4 Race  <a id='race'></a>"
   ]
  },
  {
   "cell_type": "markdown",
   "metadata": {},
   "source": [
    "The final voter characteristic we look at is race. We see that Asians and Hispanics consistently turnout at a lower rates than whites and blacks (see Figure 6).\n",
    "\n",
    "![](TurnoutByRaceLarge.png)<br>\n",
    "\n",
    "<center><b><span style=\"font-family:Ariel; font-size:1.5em;\">Figure 6.  Voter Turnout Rate (Voted/Eligible) Based on Race [5]</span></b></center><br>\n"
   ]
  },
  {
   "cell_type": "markdown",
   "metadata": {},
   "source": [
    "### 4.5 Reasons for Not Voting  <a id='notVoting'></a>"
   ]
  },
  {
   "cell_type": "markdown",
   "metadata": {},
   "source": [
    "In 2016, the most common reason registered voters gave for not voting was dislike of candidates or campaign issues (24.9%), followed by not interested in the election (15.3%), too busy or conflict schedule (14.3%), and illness or disability (11.6%) [3].  Figure 7 shows the top five reasons registered voters provided for note voting for the past four elections.\n",
    "\n",
    "![](ReasonsNotVoting.PNG)<br>\n",
    "\n",
    "<center><b><span style=\"font-family:Ariel; font-size:1.5em;\">Figure 7.  Top Five Reasons Registered Voters Provided for Not Voting [3]</span></b></center><br>"
   ]
  },
  {
   "cell_type": "markdown",
   "metadata": {},
   "source": [
    "### 4.6  Reasons for Not Registering  <a id='notRegistering'></a>"
   ]
  },
  {
   "cell_type": "markdown",
   "metadata": {},
   "source": [
    "Among the non-registered voters who are US citizens and 18 years or older (estimated to be 32.6 million in 2016), the most common reason for not registering was disinterested in the election for politics (41.7%), followed by not meeting the registration deadline (12.0%), not eligible to vote (7.4%), and permanent illness or disability (4.9%) [3].  Figure 8 shows the top five reasons citizens of the voting-age population provided for not registering.\n",
    "\n",
    "![](ReasonsNotRegistering.PNG)<br>\n",
    "\n",
    "<center><b><span style=\"font-family:Ariel; font-size:1.5em;\">Figure 8.  Top Five Reasons People Provided for Not Registering [3]</span></b></center><br>"
   ]
  },
  {
   "cell_type": "markdown",
   "metadata": {},
   "source": [
    "<div class=\"alert alert-info\">\n",
    "<b> Question:</b> Observations regarding voter characteristics in Section 4?  what to ask students?\n",
    "    </div>    "
   ]
  },
  {
   "cell_type": "markdown",
   "metadata": {},
   "source": [
    "**Congratulations on finishing this notebook!**"
   ]
  },
  {
   "cell_type": "markdown",
   "metadata": {},
   "source": [
    "To transform this notebook into a PDF, simply navigate to **\"File\"** on the upper-left corner > **\"Download as\"** > **\"PDF via Chrome\"**. \n",
    "\n",
    "**Note:** PDF via Chrome option is not available; PDF via LaTex produces \"500 Internal Server Error:  nbconvert failed: xelatex not found on PATH, if you have not installed xelatex you may need to do so. Find further instructions at https://nbconvert.readthedocs.io/en/latest/install.html#installing-tex.\"  \n",
    "\n",
    "Download as html?"
   ]
  },
  {
   "cell_type": "markdown",
   "metadata": {},
   "source": [
    "![](navigate.png)"
   ]
  },
  {
   "cell_type": "markdown",
   "metadata": {},
   "source": [
    "---\n",
    "## 5. Data Source and References <a id='sources'></a>\n",
    "\n",
    "[1] File, Thom, \"Who Votes? Congressional Elections and the American Electorate: 1978-2014,\" Population Characteristics, p20-577, U.S. Census Bureau, Washingthon, DC, 2015  https://www.census.gov/content/dam/Census/newsroom/c-span/2015/cspan_voting.pdf  [Accessed: September 1, 2020].\n",
    "\n",
    "[2]  CircleAdrian, CC BY-SA 3.0, https://commons.wikimedia.org/w/index.php?curid=53252605 [Accessed: September 1, 2020].\n",
    "\n",
    "[3] File, Thom, \"Characteristics of Voters in the Presidential\n",
    "Election of 2016,\" Population Characteristics, p20-582, U.S. Census Bureau, Washingthon, DC, 2018 https://www.census.gov/content/dam/Census/library/publications/2018/demo/P20-582.pdf [Accessed: September 1, 2020].\n",
    "\n",
    "[4] \"Gender Differences in Voter Turnout,\" Center for American Women and Politics, Eagleton Institute of Politics, Rutgers University; https://cawp.rutgers.edu/sites/default/files/resources/genderdiff.pdf [Accessed: September 1, 2020].\n",
    "\n",
    "[5] File, Thom, \"Voting in America: A Look at the 2016 Presidential Election,\" US Census Bureau, Washington, DC, 2018  https://www.census.gov/newsroom/blogs/random-samplings/2017/05/voting_in_america.html [Accessed: September 1, 2020].\n",
    "\n",
    "\n",
    "<br>\n",
    "\n",
    "Notebook developed by: Susan Wang\n",
    "\n"
   ]
  },
  {
   "cell_type": "markdown",
   "metadata": {},
   "source": [
    "---\n",
    "\n",
    "<div class=\"alert alert-warning\">   The following suggestion may be helpful ... not sure it is needed.\n",
    "    \n",
    "In order to make sure that all of the interactive widgets appear, please click \"Kernel\" in the top bar, then select \"Restart & Run All\", then confirm \"Restart & Run All Cells\". \n",
    "</div>"
   ]
  }
 ],
 "metadata": {
  "kernelspec": {
   "display_name": "Python 3",
   "language": "python",
   "name": "python3"
  },
  "language_info": {
   "codemirror_mode": {
    "name": "ipython",
    "version": 3
   },
   "file_extension": ".py",
   "mimetype": "text/x-python",
   "name": "python",
   "nbconvert_exporter": "python",
   "pygments_lexer": "ipython3",
   "version": "3.7.6"
  }
 },
 "nbformat": 4,
 "nbformat_minor": 2
}
