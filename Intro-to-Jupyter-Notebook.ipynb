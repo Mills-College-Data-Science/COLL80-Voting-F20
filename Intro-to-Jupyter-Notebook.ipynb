{
 "cells": [
  {
   "cell_type": "markdown",
   "metadata": {},
   "source": [
    "# COLL 80   Data Science Module — Introduction to Jupyter Notebooks\n",
    "\n",
    " \n",
    "---\n",
    "\n",
    "![](DSHeaderMillsLarge.png)\n",
    "\n",
    "\n",
    "### Professors Susan Wang and Almudena Konrad\n",
    "\n",
    "In this module we encounter our first Jupyter Notebook and learn the basics of the structure a Jupyter Notebook and how to work with it."
   ]
  },
  {
   "cell_type": "markdown",
   "metadata": {},
   "source": [
    "---\n",
    "## Introduction to Jupyter Notebooks "
   ]
  },
  {
   "cell_type": "markdown",
   "metadata": {},
   "source": [
    "In this module we are using a document called a **Jupyter Notebook** which is an *interactive* document containing text, code, visualizations, and more.  In this section, we introduce some of the building blocks of a notebook and how to work with it.\n",
    "\n",
    "Now click anywhere near this paragraph.  What you see is a rectangle box around this paragraph.  This rectangle is called a **cell**. A notebook is composed of two kinds of cells: **markdown** and **code**. "
   ]
  },
  {
   "cell_type": "markdown",
   "metadata": {},
   "source": [
    "#### Markdown Cells"
   ]
  },
  {
   "cell_type": "markdown",
   "metadata": {},
   "source": [
    "A markdown cell, such as this one, contains text. You can edit a Markdown cell by clicking it twice. Text in Markdown cells is written in Markdown, a formatting syntax for plain text, so you may see some funky symbols when you edit a text cell. Once you've made your changes, you can exit text-editing mode by running the cell. To ***run*** (or execute the commands) in a cell, you first select it, and\n",
    "   - press <code>Ctrl+Enter</code> (run the cell and stay at the same cell) or\n",
    "   - press <code>Shift+Enter</code> (run the cell and go to the next cell) or\n",
    "   - click the **Run** button in the toolbar at the top of the screen (run the cell and go to the next cell)\n",
    "\n",
    "Now try edit and then run the following Markdown cell:"
   ]
  },
  {
   "cell_type": "markdown",
   "metadata": {},
   "source": [
    "My favorite animal is (you fill in this part)"
   ]
  },
  {
   "cell_type": "markdown",
   "metadata": {},
   "source": [
    "#### Code Cells"
   ]
  },
  {
   "cell_type": "markdown",
   "metadata": {},
   "source": [
    "A **code cell**, such as the next one, contains commands in Python, a programming language that we will be using for the data science module. A code cell has `In [ ]:` to the left of the cell (that is how you distinguish a code cell).  \n",
    "   \n",
    "If a code cell is running, you will see an asterisk `*` appear in the square brackets to the left of the cell. Once the cell has finished running, a number (which will increment) will replace the asterisk and any output from the code will appear under the cell. The output of a code cell may include computations, tables, graphs, or other visualizations."
   ]
  },
  {
   "cell_type": "code",
   "execution_count": null,
   "metadata": {
    "scrolled": true
   },
   "outputs": [],
   "source": [
    "# this is a code cell; run this cell (Ctrl+Enter)\n",
    "print('Welcome to Data Science Introduction Module!')"
   ]
  },
  {
   "cell_type": "markdown",
   "metadata": {},
   "source": [
    "You'll notice that many code cells contain lines of greenish-blue italic text that start with a `#`. These are comments. Comments often contain helpful information about what the code does or what you are supposed to do in the cell. The leading # tells the computer to ignore them."
   ]
  },
  {
   "cell_type": "markdown",
   "metadata": {},
   "source": [
    "To edit a Code cell, just click at the location where edit should take place and start typing/editing. \n",
    "\n",
    "Now try edit and then run the following Code cell:"
   ]
  },
  {
   "cell_type": "code",
   "execution_count": null,
   "metadata": {
    "scrolled": true
   },
   "outputs": [],
   "source": [
    "# replace ... with your personal message, then run the cell (Ctrl+Enter)\n",
    "print(' ... ')"
   ]
  },
  {
   "cell_type": "markdown",
   "metadata": {},
   "source": [
    "#### Saving and Loading"
   ]
  },
  {
   "cell_type": "markdown",
   "metadata": {},
   "source": [
    "Your notebook can record all of your text and code edits, as well as any tables and graphs you generate or calculations you make, which we will see in our next Jupyter Notebook. You can save the notebook in its current state by clicking <code>Ctrl+S</code>, clicking the floppy disc icon in the toolbar at the top, left of the page, or by going to the File menu and selecting \"Save and Checkpoint\".\n",
    "\n",
    "The next time you open the notebook, it will look the same as when you last saved it. \n",
    "\n",
    "**Note**: after loading a notebook you will see all the outputs (tables, graphs, computation, widgets, etc) from your last session, but you won't be able to use any libraries you imported, variables you assigned, functions you defined, or widgets you created. To get back to your previous state, you will need to *re-run* the cells where you imported the libraries, defined the variables and functions. The easiest way is to select the cell where you left off work, then go to the Cell menu at the top of the screen and select \"Run All Above\"."
   ]
  },
  {
   "cell_type": "markdown",
   "metadata": {},
   "source": [
    "---\n",
    "\n",
    "Notebook developed by: Susan Wang"
   ]
  }
 ],
 "metadata": {
  "kernelspec": {
   "display_name": "Python 3",
   "language": "python",
   "name": "python3"
  },
  "language_info": {
   "codemirror_mode": {
    "name": "ipython",
    "version": 3
   },
   "file_extension": ".py",
   "mimetype": "text/x-python",
   "name": "python",
   "nbconvert_exporter": "python",
   "pygments_lexer": "ipython3",
   "version": "3.7.6"
  }
 },
 "nbformat": 4,
 "nbformat_minor": 2
}
